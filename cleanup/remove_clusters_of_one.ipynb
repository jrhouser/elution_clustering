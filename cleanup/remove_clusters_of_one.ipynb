{
 "metadata": {
  "name": ""
 },
 "nbformat": 3,
 "nbformat_minor": 0,
 "worksheets": [
  {
   "cells": [
    {
     "cell_type": "code",
     "collapsed": false,
     "input": [
      "import pandas as pd\n",
      "import cPickle\n",
      "\n",
      "def filter_cmplxes(cmplxs):\n",
      "    \n",
      "    keep=[]\n",
      "    for c in cmplxs:\n",
      "        if len(c)>1:\n",
      "            keep.append(c)\n",
      "    return keep\n",
      "\n",
      "cmplxs_GMM_bayes=cPickle.load(open('../testdata/PA/GMM_bayes_0.9_cluster.p','rb'))\n",
      "cmplxs_GMM=cPickle.load(open('../testdata/PA/GMM_cluster_compare_ms1_PA_clusters.p','rb'))[0]\n",
      "\n",
      "cmplxs_GMM_bayes=filter_cmplxes(cmplxs_GMM_bayes)\n",
      "cmplxs_GMM=filter_cmplxes(cmplxs_GMM)\n",
      "\n",
      "\n",
      "cPickle.dump(cmplxs_GMM_bayes,open('../testdata/PA/GMM_bayes_0.9_cluster_filterones.p','wb'))\n",
      "cPickle.dump([cmplxs_GMM],open('../testdata/PA/GMM_cluster_compare_ms1_PA_clusters_filterones.p','wb'))\n",
      "\n"
     ],
     "language": "python",
     "metadata": {},
     "outputs": [],
     "prompt_number": 3
    },
    {
     "cell_type": "code",
     "collapsed": false,
     "input": [],
     "language": "python",
     "metadata": {},
     "outputs": []
    }
   ],
   "metadata": {}
  }
 ]
}