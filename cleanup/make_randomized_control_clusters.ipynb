{
 "metadata": {
  "name": ""
 },
 "nbformat": 3,
 "nbformat_minor": 0,
 "worksheets": [
  {
   "cells": [
    {
     "cell_type": "code",
     "collapsed": false,
     "input": [
      "import pandas as pd\n",
      "import numpy as np\n",
      "import cPickle\n",
      "\n",
      "\n",
      "def randomize(cmplxs):\n",
      "    punique=np.array(list(set([p for c in cmplxs for p in c])))\n",
      "    \n",
      "    rand_cmplxs=[]\n",
      "    for c in cmplxs:\n",
      "        rand_cmplxs.append(np.random.choice(punique,len(c)))\n",
      "    \n",
      "    return rand_cmplxs\n",
      "\n",
      "cmplxs_gmm_bayes=cPickle.load(open('../testdata/PA/GMM_bayes_0.9_cluster_filterones.p','rb'))\n",
      "cmplxs_gmm=cPickle.load(open('../testdata/PA/GMM_cluster_compare_ms1_PA_clusters_filterones.p','rb'))[0]\n",
      "\n",
      "\n",
      "rand_gmm=randomize(cmplxs_gmm)\n",
      "rand_gmm_bayes=randomize(cmplxs_gmm_bayes)\n",
      "\n",
      "cPickle.dump(rand_gmm,open('../testdata/PA/GMM_0.9_cluster_filterones_randomized.p','wb'))\n",
      "cPickle.dump(rand_gmm_bayes,open('../testdata/PA/GMM_bayes_0.9_cluster_filterones_randomized.p','wb'))\n"
     ],
     "language": "python",
     "metadata": {},
     "outputs": [],
     "prompt_number": 4
    },
    {
     "cell_type": "code",
     "collapsed": false,
     "input": [],
     "language": "python",
     "metadata": {},
     "outputs": []
    }
   ],
   "metadata": {}
  }
 ]
}